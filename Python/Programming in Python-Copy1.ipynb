{
 "cells": [
  {
   "cell_type": "markdown",
   "metadata": {},
   "source": [
    "## PROGRAMMING IN PYTHON\n",
    "\n",
    "![image.png](images/python.png)\n",
    "\n",
    "Dutch programmer Guido van Rossum, who is currently working at Dropbox (previously at Google), invented Python. It was not a popular language until somewhat recently. The popularity exponentially shot up due to its adoption for machine learning projects and the availability of many libraries.\n",
    "\n",
    "Python is an essential skill every data scientist should possess in order to excel in data exploration, extraction, analysis, and visualization.\n",
    "\n",
    "Python is an interpreted language. (FYI, C/C++ are compiled languages.)\n",
    "Once you write your code, the compiler will start executing it line by line from the top of the file.\n",
    "\n",
    "WHY USE PYTHON FOR MACHINE LEARNING?\n",
    "* Python is Easy To Use: Python is simple with an easily readable syntax and that makes it well-loved by both seasoned developers and experimental students.\n",
    "\n",
    "* Python has multiple Libraries and Frameworks: Python is already quite popular and consequently, it has hundreds of different libraries and frameworks that can be used by developers.\n",
    "\n",
    "* Python has Community and Corporate Support: Python has been around since 1990 and that is ample time to create a supportive community.\n",
    "\n",
    "* Python is Portable and Extensible: A lot of cross-language operations can be performed easily on Python because of its portable and extensible nature\n",
    "\n",
    "![image.png](images/fly.png)\n",
    "\n",
    "\n",
    "Python has become the first choice of programmers in machine learning. The services of Python are suitable for ML developers. If you are developing software in ML, then use Python. The credibility of this language is higher than in others. Also, it is easy to use and understand. So it has become a popular choice for ML.\n",
    "\n",
    "The developers have stick to this language for their programming tasks. If you observe, then you will find that most of the ML algorithm.\n",
    "The Python code is suitable to use and implement on any platform. Also, flexibility plays a vital role in Python. I have shared my views about the use and the benefits of Python in ML. And I hope that this post has helped you in getting a clear image of Python's role in ML.\n",
    "\n",
    "Moreover, the benefits of Python are not limited here. It has many advantages which you will notice when using it. Also, it is best for beginners in ML programming.\n",
    "\n",
    "### Programming Styles\n",
    "There are three main ways to write Python codes.\n",
    "\n",
    "* Unstructured\n",
    "* Procedural\n",
    "* Object-oriented\n",
    "\n",
    "In unstructured programming, you write the code as one big monolithic file. It is discouraged to use this style of writing for large programs as it is quite difficult to manage. However, for small code snippets, like what we are going to do in this tutorial, it is a convenient way of writing programs.\n",
    "\n",
    "In procedural programming, we group code into functional units called functions. There are two steps involved here:\n",
    "* Define (write) the function\n",
    "* Invoke (call) the function\n",
    "You write a function once and invoke as many time as you want to execute it. In this post, we will mainly be using unstructured and procedural coding styles.\n",
    "\n",
    "In object-oriented programming, you identify blueprints and create what is called a class for each blueprint. We will be exploring object-oriented programming in Python in a later post.\n",
    "\n",
    "### Read more in Sources\n",
    "\n",
    "https://levelup.gitconnected.com/python-for-absolute-beginners-a-quick-primer-c7db94a5d0e\n",
    "\n",
    "https://hackernoon.com/why-python-used-for-machine-learning-u13f922ug\n",
    "\n",
    "https://levelup.gitconnected.com/python-for-absolute-beginners-a-quick-primer-c7db94a5d0e)\n",
    "\n",
    "https://www.geeksforgeeks.org/best-python-libraries-for-machine-learning/\n",
    "\n",
    "https://www.geeksforgeeks.org/introduction-machine-learning-using-python/\n",
    "\n",
    "https://www.geeksforgeeks.org/python-generate-test-datasets-for-machine-learning/\n"
   ]
  },
  {
   "cell_type": "markdown",
   "metadata": {},
   "source": [
    "### Basic Arithmetic In Python"
   ]
  },
  {
   "cell_type": "code",
   "execution_count": 7,
   "metadata": {},
   "outputs": [
    {
     "data": {
      "text/plain": [
       "2"
      ]
     },
     "execution_count": 7,
     "metadata": {},
     "output_type": "execute_result"
    }
   ],
   "source": [
    "#Addition\n",
    "1+1"
   ]
  },
  {
   "cell_type": "code",
   "execution_count": 8,
   "metadata": {},
   "outputs": [
    {
     "data": {
      "text/plain": [
       "1"
      ]
     },
     "execution_count": 8,
     "metadata": {},
     "output_type": "execute_result"
    }
   ],
   "source": [
    "# Subtraction\n",
    "2-1"
   ]
  },
  {
   "cell_type": "code",
   "execution_count": 14,
   "metadata": {},
   "outputs": [
    {
     "data": {
      "text/plain": [
       "6"
      ]
     },
     "execution_count": 14,
     "metadata": {},
     "output_type": "execute_result"
    }
   ],
   "source": [
    "# Multiplication\n",
    "2*3"
   ]
  },
  {
   "cell_type": "markdown",
   "metadata": {},
   "source": [
    "### Division\n",
    "3/3 "
   ]
  },
  {
   "cell_type": "code",
   "execution_count": 310,
   "metadata": {},
   "outputs": [
    {
     "data": {
      "text/plain": [
       "1.0"
      ]
     },
     "execution_count": 310,
     "metadata": {},
     "output_type": "execute_result"
    }
   ],
   "source": [
    "# Division always returns floats!\n",
    "1/1"
   ]
  },
  {
   "cell_type": "code",
   "execution_count": 11,
   "metadata": {},
   "outputs": [
    {
     "data": {
      "text/plain": [
       "8"
      ]
     },
     "execution_count": 11,
     "metadata": {},
     "output_type": "execute_result"
    }
   ],
   "source": [
    "# Powers\n",
    "2 ** 3"
   ]
  },
  {
   "cell_type": "code",
   "execution_count": 18,
   "metadata": {},
   "outputs": [
    {
     "data": {
      "text/plain": [
       "2.8284271247461903"
      ]
     },
     "execution_count": 18,
     "metadata": {},
     "output_type": "execute_result"
    }
   ],
   "source": [
    "2**(3 / 2)"
   ]
  },
  {
   "cell_type": "code",
   "execution_count": 16,
   "metadata": {},
   "outputs": [
    {
     "data": {
      "text/plain": [
       "-10"
      ]
     },
     "execution_count": 16,
     "metadata": {},
     "output_type": "execute_result"
    }
   ],
   "source": [
    "# Order of Operations\n",
    "1 - (10 + 1)"
   ]
  },
  {
   "cell_type": "code",
   "execution_count": 14,
   "metadata": {},
   "outputs": [
    {
     "data": {
      "text/plain": [
       "3003"
      ]
     },
     "execution_count": 14,
     "metadata": {},
     "output_type": "execute_result"
    }
   ],
   "source": [
    "(1 + 2) * (1000+1)"
   ]
  }
 ],
 "metadata": {
  "kernelspec": {
   "display_name": "Python 3",
   "language": "python",
   "name": "python3"
  },
  "language_info": {
   "codemirror_mode": {
    "name": "ipython",
    "version": 3
   },
   "file_extension": ".py",
   "mimetype": "text/x-python",
   "name": "python",
   "nbconvert_exporter": "python",
   "pygments_lexer": "ipython3",
   "version": "3.7.6"
  }
 },
 "nbformat": 4,
 "nbformat_minor": 4
}

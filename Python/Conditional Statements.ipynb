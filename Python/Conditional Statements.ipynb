{
 "cells": [
  {
   "cell_type": "markdown",
   "metadata": {},
   "source": [
    "# Conditional Statements\n",
    "### if , elif , and else statements\n",
    "\n",
    "Majority of the time when programming, we'll need to control the flow of our logic. Our program will want to perform an action in only certain cases, we can use the **if**, **elif**, and **else** statements to control for these cases. Let's work through some examples:"
   ]
  },
  {
   "cell_type": "markdown",
   "metadata": {},
   "source": [
    "## Simple if Statement\n",
    "The format for an if statement\n",
    "\n",
    "    if some_condition:\n",
    "        # Do Something\n"
   ]
  },
  {
   "cell_type": "code",
   "execution_count": 262,
   "metadata": {},
   "outputs": [
    {
     "name": "stdout",
     "output_type": "stream",
     "text": [
      "One is less than two\n"
     ]
    }
   ],
   "source": [
    "if 1<2:\n",
    "    print('One is less than two')\n",
    "    "
   ]
  },
  {
   "cell_type": "code",
   "execution_count": 263,
   "metadata": {
    "collapsed": true,
    "jupyter": {
     "outputs_hidden": true
    }
   },
   "outputs": [],
   "source": [
    "if 1>2:\n",
    "    print(\"One is greater than two\")"
   ]
  },
  {
   "cell_type": "markdown",
   "metadata": {},
   "source": [
    "Notice what happens, the indented block of code only runs when the if condition is True!"
   ]
  },
  {
   "cell_type": "markdown",
   "metadata": {},
   "source": [
    "## if else Statement\n",
    "\n",
    "Let's now add in an alternate action in case the **if** is not True using the **else** statement.\n",
    "\n",
    "Notice the format and how the code blocks line up, this is crucial in Python! Code indentation let's Python know what blocks and statements correspond together."
   ]
  },
  {
   "cell_type": "code",
   "execution_count": 264,
   "metadata": {},
   "outputs": [
    {
     "name": "stdout",
     "output_type": "stream",
     "text": [
      "One is equal to One\n"
     ]
    }
   ],
   "source": [
    "if 1==1:\n",
    "    print(\"One is equal to One\")\n",
    "else:\n",
    "    print(\"First if was not True\")"
   ]
  },
  {
   "cell_type": "code",
   "execution_count": 265,
   "metadata": {},
   "outputs": [
    {
     "name": "stdout",
     "output_type": "stream",
     "text": [
      "First if was not True\n"
     ]
    }
   ],
   "source": [
    "if 1==2:\n",
    "    print(\"One is equal to Two\")\n",
    "else:\n",
    "    print(\"First if was not True\")"
   ]
  },
  {
   "cell_type": "code",
   "execution_count": 3,
   "metadata": {},
   "outputs": [
    {
     "name": "stdin",
     "output_type": "stream",
     "text": [
      "Enter your password 222\n"
     ]
    },
    {
     "name": "stdout",
     "output_type": "stream",
     "text": [
      "You're a criminal\n"
     ]
    }
   ],
   "source": [
    "saved_password = 123456\n",
    "new_password = input(\"Enter your password\")\n",
    "\n",
    "if int(new_password) == saved_password:\n",
    "    print(\"Password correct\")\n",
    "else:\n",
    "    print(\"You're a criminal\")"
   ]
  },
  {
   "cell_type": "markdown",
   "metadata": {},
   "source": [
    "## if, elif, else \n",
    "\n",
    "Now let's imagine we have multiple conditions to check before the final **else** statement, this is where we can use the **elif** keyword to check for as many individual conditions as necessary:"
   ]
  },
  {
   "cell_type": "code",
   "execution_count": 144,
   "metadata": {},
   "outputs": [
    {
     "name": "stdout",
     "output_type": "stream",
     "text": [
      "None of the above conditions were True\n"
     ]
    }
   ],
   "source": [
    "if 2 == 0:\n",
    "    print('First condition True')\n",
    "elif 2 == 1:\n",
    "    print(\"Second condition True\")\n",
    "elif 2 == 100:\n",
    "    print(\"Third condition True\")\n",
    "else:\n",
    "    print(\"None of the above conditions were True\")"
   ]
  },
  {
   "cell_type": "markdown",
   "metadata": {},
   "source": [
    "Let's see what happens if we had multiple True conditions:"
   ]
  },
  {
   "cell_type": "code",
   "execution_count": 145,
   "metadata": {},
   "outputs": [
    {
     "name": "stdout",
     "output_type": "stream",
     "text": [
      "First condition True\n"
     ]
    }
   ],
   "source": [
    "if 2 == 2:\n",
    "    print('First condition True')\n",
    "elif 2 == 2:\n",
    "    print(\"Second condition True\")\n",
    "elif 2 == 2:\n",
    "    print(\"Third condition True\")\n",
    "else:\n",
    "    print(\"None of the above conditions were True\")"
   ]
  },
  {
   "cell_type": "markdown",
   "metadata": {},
   "source": [
    "Notice how only the first True condition's code block will be executed, keep this in mind when writing your scripts!"
   ]
  }
 ],
 "metadata": {
  "kernelspec": {
   "display_name": "Python 3",
   "language": "python",
   "name": "python3"
  },
  "language_info": {
   "codemirror_mode": {
    "name": "ipython",
    "version": 3
   },
   "file_extension": ".py",
   "mimetype": "text/x-python",
   "name": "python",
   "nbconvert_exporter": "python",
   "pygments_lexer": "ipython3",
   "version": "3.7.6"
  }
 },
 "nbformat": 4,
 "nbformat_minor": 4
}

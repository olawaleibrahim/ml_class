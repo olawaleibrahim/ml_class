{
 "cells": [
  {
   "cell_type": "markdown",
   "metadata": {},
   "source": [
    "# Data Science Nigeria: Introductory Machine Learning Training\n",
    "\n",
    "<img src='Image/DSN.jpg' alt = \"Data Science Nigeria\" style=\"width:600; height:300\"/>\n",
    "\n",
    "\n",
    "## Kaggle: Your Machine Learning and Data Science Community\n",
    "Kaggle is the world's largest data science community with powerful tools and resources to help you achieve your data science goals.\n",
    "\n",
    "<a src=\"www.kaggle.com\">www.kaggle.com</a>"
   ]
  },
  {
   "cell_type": "markdown",
   "metadata": {},
   "source": [
    "<img src=\"image/kaggle.PNG\">"
   ]
  },
  {
   "cell_type": "markdown",
   "metadata": {},
   "source": [
    "**Kaggle enables data scientists and other developers to engage in running machine learning contests, write and share code, and to host datasets. The types of data science problems posted on Kaggle can be anything from attempting to predict cancer occurrence by examining patient records to analyzing sentiment to evoke by movie reviews and how this affects audience reaction.**"
   ]
  },
  {
   "cell_type": "markdown",
   "metadata": {},
   "source": [
    "### Kaggle Registration\n",
    "\n",
    "<img src=\"image/kaggle_reg.PNG\">"
   ]
  },
  {
   "cell_type": "markdown",
   "metadata": {},
   "source": [
    "## Data Science Nigeria past kaggle event\n",
    "Data Science Nigeria is passionate about community build and helping data scientists be the best they can be. DSN has organized more than 6 data science online competition both on ZIndi <a src=\"https://zindi.africa/\">https://zindi.africa</a> and Kaggle\n",
    "\n",
    "### Overview\n",
    "This contains a general introduction to the competition and in some cases, a case study to the problem you are trying to solve is described\n",
    "<img src=\"image/dsnpast1.PNG\">\n",
    "\n",
    "### Data\n",
    "It contains information about the dataset and a detailed explanation of each column in the dataset\n",
    "<img src=\"image/kaggle_data.PNG\">\n",
    "\n",
    "\n",
    "### Leaderboard\n",
    "This display the position of each participant relative to each other\n",
    "<img src=\"image/leaderboard.PNG\">\n",
    "\n",
    "\n",
    "### Rules\n",
    "This tab explains the rules of the competition. Always remember to read this section\n",
    "<img src=\"image/kaggle_rule.PNG\">"
   ]
  },
  {
   "cell_type": "code",
   "execution_count": null,
   "metadata": {},
   "outputs": [],
   "source": []
  }
 ],
 "metadata": {
  "kernelspec": {
   "display_name": "Python 3",
   "language": "python",
   "name": "python3"
  },
  "language_info": {
   "codemirror_mode": {
    "name": "ipython",
    "version": 3
   },
   "file_extension": ".py",
   "mimetype": "text/x-python",
   "name": "python",
   "nbconvert_exporter": "python",
   "pygments_lexer": "ipython3",
   "version": "3.7.4"
  }
 },
 "nbformat": 4,
 "nbformat_minor": 2
}

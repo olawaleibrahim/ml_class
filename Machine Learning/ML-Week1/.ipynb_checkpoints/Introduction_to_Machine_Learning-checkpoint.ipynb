{
 "cells": [
  {
   "cell_type": "markdown",
   "metadata": {
    "colab_type": "text",
    "id": "estISSKBnOYL"
   },
   "source": [
    "# Data Science Nigeria: Introductory Machine Learning Training\n",
    "\n",
    "<img src='Image/DSN.jpg' alt = \"Data Science Nigeria\" style=\"width:600; height:300\"/>\n",
    "\n",
    "## Introduction to Machine Learning\n",
    "\n",
    "Welcome to the 1st cohort of the Introduction to Machine Learning, the course will run for a period of six weeks, and during that six weeks, student would be introduce to the following topics\n",
    "\n",
    "\n",
    "Session 1: Introductions\n",
    "- Introduction to Data Science Nigeria\n",
    "- Introduction to Artificial Intelligence and Machine Learning (Concepts)\n",
    "\n",
    "Session 2: Hands-on\n",
    "- Introduction to Python Libraries- Numpy and Pandas\n",
    "\n",
    "Session 3: Hands-on\n",
    "- Data Preprocessing and Visualization\n",
    "\n",
    "Session 4: Hands-on\n",
    "- Supervised learning algorithms\n",
    "- Guided class project on supervised learning algorithms\n",
    "\n",
    "Session 5: Hands-on\n",
    "- Unsupervised learning algorithms\n",
    "- Guided class project on unsupervised learning algorithms\n",
    "\n",
    "Session 6:\tHands-on\n",
    "- Review of Project Problem\n",
    "- Closing Ceremony"
   ]
  },
  {
   "cell_type": "markdown",
   "metadata": {
    "colab_type": "text",
    "id": "vMu9xlAPClw8"
   },
   "source": [
    "## What is Machine Learning\n",
    "\n",
    "When you think about Machine Learning (ML) what comes to mind. This\n",
    "\n",
    "<img src=\"Image\\AI_typing.jpg\" style=\"width: 500px; height:500px\"/>\n",
    "\n",
    "\n",
    "\n",
    "**or this**\n",
    "\n",
    "<img src=\"Image\\machine_learning.jpg\" style=\"width: 500px; height:500px\"/>\n",
    "\n",
    "\n",
    "Machine learning research is part of research on artificial intelligence, seeking to provide knowledge to computers through data, observations and interacting with the world. That acquired knowledge allows computers to correctly generalize to new settings. - **Dr. Yoshua Bengio**\n",
    "\n",
    "“Machine Learning at its most basic is the practice of using algorithms to parse data, learn from it, and then make a determination or prediction about something in the world.” – **Nvidia** \n",
    "\n",
    "\n",
    "Simpily put, Machine Learning are mathematical algothrim which end goal is to\n",
    "learn from data and make prediction about similar instance in a new data point\n",
    "\n"
   ]
  },
  {
   "cell_type": "markdown",
   "metadata": {
    "colab_type": "text",
    "id": "5lZst9SwMVv5"
   },
   "source": [
    "## Differences between Machine Learning, Artifical Intellegent and Deep Learning\n",
    "\n",
    "Artificial intelligence is imparting a cognitive ability to a machine. It is basically giving machine a form of intellegent.\n",
    "\n",
    "<img src=\"Image\\ml.jpg\" />\n",
    "\n",
    "Deep Learning is a computer algorithm that simulates the network of neurons in a brain. It is a subset of Machine Learning\n",
    "\n",
    "<img src=\"Image\\dropnet.gif\" style=\"width: 500px; height:500px\" />"
   ]
  },
  {
   "cell_type": "markdown",
   "metadata": {
    "colab_type": "text",
    "id": "ykpHc3Z0Tm60"
   },
   "source": [
    "## Concept to Note Going Forward\n",
    "\n",
    "These are some basic concept which must be defined before moving forward\n",
    "\n",
    "- Data: Data can be defined as any form of information that can be inputted to a computer\n",
    "\n",
    "- Feature: These are groups of data points which would be used to train the classifier\n",
    "\n",
    "- Label/ Target: This is what the model is trying to predict. e.g (whether the animal is a Dog or cat)\n",
    "\n",
    "- Classifier: A classifier uses the features of an object to try identifying the class it belongs to (Machine Learning Model)\n",
    "<img src=\"Image\\dataset.png\" />"
   ]
  },
  {
   "cell_type": "markdown",
   "metadata": {
    "colab_type": "text",
    "id": "_SZpOxVXcFs_"
   },
   "source": [
    "## Key Elements of Machine Learning\n",
    "\n",
    "There are tens of thousands of machine learning algorithms and hundreds of new algorithms are developed every year.\n",
    "\n",
    "Every machine learning algorithm has three components:\n",
    "\n",
    "- **Representation**: how to represent knowledge. Examples include decision trees, sets of rules, instances, graphical models, neural networks, support vector machines, model ensembles and others. (a set of classifiers or the language that a computer understands)\n",
    "- **Evaluation**: the way to evaluate candidate programs (hypotheses). Examples include accuracy, prediction and recall, squared error, likelihood, posterior probability, cost, margin, entropy k-L divergence and others.\n",
    "- **Optimization**: the way candidate programs are generated known as the search process. For example combinatorial optimization, convex optimization, constrained optimization."
   ]
  },
  {
   "cell_type": "markdown",
   "metadata": {
    "colab_type": "text",
    "id": "34oyKQEVdDUg"
   },
   "source": [
    "## Types of Learning\n",
    "There are four types of machine learning:\n",
    "\n",
    "- **Supervised learning**: (also called inductive learning) Training data includes desired outputs i.e label.  E.g To detect if a message is a Spam of not. This type of learning is supervised.\n",
    "- **Unsupervised learning**: Training data does not include desired outputs. An example is clustering. It is hard to tell what is good learning and what is not.\n",
    "- **Semi-supervised learning**: Training data includes a few desired outputs.\n",
    "- **Reinforcement learning**: Rewards from a sequence of actions. AI types like it, it is the most ambitious type of learning.\n",
    "\n",
    "Supervised learning is the most mature, the most studied and the type of learning used by most machine learning algorithms. Learning with supervision is much easier than learning without supervision"
   ]
  },
  {
   "cell_type": "markdown",
   "metadata": {
    "colab_type": "text",
    "id": "NM44OwaRerdV"
   },
   "source": [
    "## Supervised Learning\n",
    "\n",
    "<img src=\"Image\\Machine-Learning-Explained1-supervised.png\" style=\"width: 500px; height:500px\" />\n",
    "\n",
    "Supervised learning, in the context of artificial intelligence (AI) and machine learning, is a type of system in which both input and desired output data are provided. Input and output data are labeled for classification to provide a learning basis for future data processing.\n",
    "\n",
    "\n",
    "**Classification:** A classification classifier (model) is the type of model in which the output variable (i.e the Label) is Discrete. E.g To predict if the patient has cancer or not, if an employee will leave or stay e.t.c\n",
    "\n",
    "### Type of Classification Model\n",
    "- Logistic Regression\n",
    "- Decision Trees\n",
    "- Random Forest\n",
    "\n",
    "**Decision Tree Diagram**\n",
    "\n",
    "<img src=\"Image\\decision_tree.gif\" style=\"width: 500px; height:500px\" />\n",
    "\n",
    "**Regression:** A Regression model is the type of model in which the out variable is continuous. E.g Predict price of a house in an area, how much rainfall will occur in an area e.t.c\n",
    "\n",
    "### Type of Regression Model\n",
    "- Linear Regression\n",
    "- Decision Trees Regression\n",
    "\n",
    "e.t.c\n",
    "<img src=\"Image\\Machine-Learning-Explained2_unsupervised.png\" style=\"width: 500px; height:500px\" />\n"
   ]
  },
  {
   "cell_type": "markdown",
   "metadata": {},
   "source": [
    "## Unsupervised Learning\n",
    "\n",
    "Unsupervised Learning is the type of learning in which the outcome variable (i.e the label is not available), what we are looking for in the dataset is the relationship between each datapoint\n",
    "\n",
    "### Type of Unsupervised Learning Model\n",
    "-  Clustering \n",
    "- Association.\n",
    "\n",
    "\n",
    "#### Clustering\n",
    "Clustering is an important concept when it comes to unsupervised learning. It mainly deals with finding a structure or pattern in a collection of uncategorized data.\n",
    "\n",
    "##### Types of Clustering Models\n",
    "- Hierarchical clustering\n",
    "- K-means clustering\n",
    "- K-NN (k nearest neighbors)\n",
    "\n",
    "<img src=\"Image\\gmmGrowDemo01.gif\" style=\"width: 500px; height:500px\" />\n",
    "\n",
    "#### Association\n",
    "Association rules allow you to establish associations amongst data objects inside large databases. This unsupervised technique is about discovering interesting relationships between variables in large databases. For example, people that buy a new home most likely to buy new furniture.\n",
    "\n",
    "Other Examples:\n",
    "\n",
    "A subgroup of cancer patients grouped by their gene expression measurements\n",
    "Groups of shopper based on their browsing and purchasing histories\n",
    "Movie group by the rating given by movies viewers"
   ]
  },
  {
   "cell_type": "markdown",
   "metadata": {},
   "source": [
    "### Machine Learning Process\n",
    "**When else you hear about Machine Learning, think about this**\n",
    "\n",
    "<img src=\"Image\\machine_learning_life_cycle.jpg\" style=\"width: 600px; height:600px\" />"
   ]
  },
  {
   "cell_type": "markdown",
   "metadata": {
    "colab_type": "text",
    "id": "fxKlYmVblpYu"
   },
   "source": [
    "## Assignment\n",
    "\n",
    "- 1\n",
    "- 2"
   ]
  },
  {
   "cell_type": "markdown",
   "metadata": {
    "colab_type": "text",
    "id": "W_BS2J2vlyQv"
   },
   "source": [
    "## Reference\n",
    "\n",
    "- https://emerj.com/ai-glossary-terms/what-is-machine-learning/\n",
    "- https://www.guru99.com/machine-learning-vs-deep-learning.html\n",
    "- https://machinelearningmastery.com/basic-concepts-in-machine-learning/\n",
    "- https://searchenterpriseai.techtarget.com/definition/supervised-learning\n",
    "- https://medium.com/@Mandysidana/machine-learning-types-of-classification-9497bd4f2e14\n"
   ]
  },
  {
   "cell_type": "code",
   "execution_count": 0,
   "metadata": {
    "colab": {},
    "colab_type": "code",
    "id": "FSdi4OJGeqhv"
   },
   "outputs": [],
   "source": []
  },
  {
   "cell_type": "code",
   "execution_count": 0,
   "metadata": {
    "colab": {},
    "colab_type": "code",
    "id": "Nf1blgffTl_Y"
   },
   "outputs": [],
   "source": []
  },
  {
   "cell_type": "code",
   "execution_count": 0,
   "metadata": {
    "colab": {},
    "colab_type": "code",
    "id": "MZCsn6uRMULY"
   },
   "outputs": [],
   "source": []
  },
  {
   "cell_type": "code",
   "execution_count": 0,
   "metadata": {
    "colab": {},
    "colab_type": "code",
    "id": "PoXH8VNyfqsl"
   },
   "outputs": [],
   "source": []
  }
 ],
 "metadata": {
  "colab": {
   "name": "Introduction_to_Machine_Learning.ipynb",
   "provenance": []
  },
  "kernelspec": {
   "display_name": "Python 3",
   "language": "python",
   "name": "python3"
  },
  "language_info": {
   "codemirror_mode": {
    "name": "ipython",
    "version": 3
   },
   "file_extension": ".py",
   "mimetype": "text/x-python",
   "name": "python",
   "nbconvert_exporter": "python",
   "pygments_lexer": "ipython3",
   "version": "3.7.4"
  }
 },
 "nbformat": 4,
 "nbformat_minor": 1
}
